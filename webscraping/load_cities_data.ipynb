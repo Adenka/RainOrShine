{
 "cells": [
  {
   "cell_type": "code",
   "execution_count": 1,
   "metadata": {},
   "outputs": [
    {
     "name": "stderr",
     "output_type": "stream",
     "text": [
      "c:\\Users\\mr\\AppData\\Local\\Programs\\Python\\Python311\\Lib\\site-packages\\tqdm\\auto.py:22: TqdmWarning: IProgress not found. Please update jupyter and ipywidgets. See https://ipywidgets.readthedocs.io/en/stable/user_install.html\n",
      "  from .autonotebook import tqdm as notebook_tqdm\n"
     ]
    }
   ],
   "source": [
    "from webscrape_fast_util import *"
   ]
  },
  {
   "cell_type": "code",
   "execution_count": 2,
   "metadata": {},
   "outputs": [
    {
     "name": "stdout",
     "output_type": "stream",
     "text": [
      "304279\n"
     ]
    }
   ],
   "source": [
    "cities_urls = load_cities_urls()\n",
    "print(len(cities_urls))"
   ]
  },
  {
   "cell_type": "code",
   "execution_count": null,
   "metadata": {},
   "outputs": [],
   "source": [
    "cities_data = []"
   ]
  },
  {
   "cell_type": "code",
   "execution_count": 3,
   "metadata": {},
   "outputs": [
    {
     "name": "stderr",
     "output_type": "stream",
     "text": [
      "100%|██████████| 304279/304279 [01:07<00:00, 4507.58it/s] \n"
     ]
    }
   ],
   "source": [
    "cities_data = load_cities_data()"
   ]
  },
  {
   "cell_type": "code",
   "execution_count": 9,
   "metadata": {},
   "outputs": [
    {
     "name": "stderr",
     "output_type": "stream",
     "text": [
      "100%|██████████| 54/54 [00:07<00:00,  6.78it/s]\n"
     ]
    }
   ],
   "source": [
    "cities_data = get_all_cities_data(cities_data, [0, 0], cities_urls)"
   ]
  },
  {
   "cell_type": "code",
   "execution_count": 10,
   "metadata": {},
   "outputs": [
    {
     "name": "stdout",
     "output_type": "stream",
     "text": [
      "errored 54/274296\n",
      "loaded 274242/304279\n",
      "loaded or value error 304225/304279\n",
      "{\"<class 'AttributeError'>\"}\n"
     ]
    }
   ],
   "source": [
    "def print_stats():\n",
    "    errored = []\n",
    "    loaded = 0\n",
    "    loaded_or_value_error = 0\n",
    "    for i, el in enumerate(cities_data):\n",
    "        if not isinstance(el, str) or el == \"<class 'ValueError'>\":\n",
    "            loaded_or_value_error += 1\n",
    "\n",
    "        if not isinstance(el, str):\n",
    "            loaded += 1\n",
    "        elif el != \"not_loaded\" and el != \"<class 'ValueError'>\":\n",
    "            errored.append((i, el, cities_urls[i]))\n",
    "    print(\"errored {}/{}\".format(len(errored), len(errored) + loaded))\n",
    "    #for el in errored:\n",
    "    #    print(el)\n",
    "    print(\"loaded {}/{}\".format(loaded, len(cities_data)))\n",
    "    print(\"loaded or value error {}/{}\".format(loaded_or_value_error, len(cities_data)))\n",
    "\n",
    "    print(set([el for _, el, _ in errored]))\n",
    "\n",
    "print_stats()"
   ]
  },
  {
   "cell_type": "code",
   "execution_count": 11,
   "metadata": {},
   "outputs": [
    {
     "name": "stderr",
     "output_type": "stream",
     "text": [
      "100%|██████████| 304279/304279 [00:17<00:00, 17832.99it/s]\n"
     ]
    }
   ],
   "source": [
    "save_cities_data(cities_data)"
   ]
  },
  {
   "cell_type": "code",
   "execution_count": 12,
   "metadata": {},
   "outputs": [
    {
     "name": "stderr",
     "output_type": "stream",
     "text": [
      "100%|██████████| 304279/304279 [01:10<00:00, 4287.16it/s] \n"
     ]
    }
   ],
   "source": [
    "cities_data_loaded = load_cities_data()"
   ]
  },
  {
   "cell_type": "code",
   "execution_count": 13,
   "metadata": {},
   "outputs": [
    {
     "name": "stdout",
     "output_type": "stream",
     "text": [
      "({'city': 'Zanyika', 'region': 'Mashonaland East', 'country': 'Zimbabwe', 'coords': [31.816667, -17.55]},                                    Month     Jan     Feb     Mar    Apr  \\\n",
      "0                    Record high °C (°F)   38.37   36.24   35.17  33.04   \n",
      "1                   Average high °C (°F)   28.34   27.98   27.61  26.06   \n",
      "2                     Daily mean °C (°F)   24.53   23.99   23.26  21.23   \n",
      "3                    Average low °C (°F)   17.32   16.62   15.38  13.13   \n",
      "4                     Record low °C (°F)   12.79   12.79    9.59   8.53   \n",
      "5      Average precipitation mm (inches)  392.59  339.01  184.70  88.98   \n",
      "6  Average precipitation days (≥ 1.0 mm)   24.51   22.48   19.38  11.82   \n",
      "7          Average relative humidity (%)   83.61   86.17   84.22  79.89   \n",
      "8            Mean monthly sunshine hours   13.30   13.05   12.57   8.95   \n",
      "\n",
      "     May    Jun    Jul    Aug    Sep    Nov     Oct     Dec    Year  \n",
      "0  30.91  29.84  33.04  36.24  40.50  43.70   42.63   38.37   43.70  \n",
      "1  25.08  23.52  23.66  27.69  31.31  32.68   31.17   29.16   27.86  \n",
      "2  19.69  17.83  17.83  21.49  25.20  27.30   26.72   25.39   22.87  \n",
      "3  10.59   8.66   8.30  10.47  12.87  16.00   17.61   17.99   13.75  \n",
      "4   6.39   4.26   3.20   4.26   3.20   7.46    9.59   12.79    3.20  \n",
      "5  17.78   2.73   3.66   2.06   4.19  53.97  238.07  404.43  144.34  \n",
      "6   3.29   0.38   0.78   0.59   0.97   7.36   17.15   24.03   11.06  \n",
      "7  69.79  67.42  62.80  51.56  45.03  49.21   61.82   77.29   68.23  \n",
      "8   9.21   9.24   9.16   9.27  11.97  12.54   13.61   13.37   11.35  )\n"
     ]
    }
   ],
   "source": [
    "print(cities_data_loaded[304279-1])"
   ]
  },
  {
   "cell_type": "code",
   "execution_count": null,
   "metadata": {},
   "outputs": [],
   "source": []
  }
 ],
 "metadata": {
  "kernelspec": {
   "display_name": "Python 3.11.0 64-bit",
   "language": "python",
   "name": "python3"
  },
  "language_info": {
   "codemirror_mode": {
    "name": "ipython",
    "version": 3
   },
   "file_extension": ".py",
   "mimetype": "text/x-python",
   "name": "python",
   "nbconvert_exporter": "python",
   "pygments_lexer": "ipython3",
   "version": "3.11.0"
  },
  "orig_nbformat": 4,
  "vscode": {
   "interpreter": {
    "hash": "5fd83d97a51c5efb0d8ca9c605f19b635b1450b548e83298c73280212c3a60ae"
   }
  }
 },
 "nbformat": 4,
 "nbformat_minor": 2
}
