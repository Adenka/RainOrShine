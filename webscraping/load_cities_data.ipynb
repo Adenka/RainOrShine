{
 "cells": [
  {
   "cell_type": "code",
   "execution_count": 23,
   "metadata": {},
   "outputs": [],
   "source": [
    "from webscrape_fast_util import *"
   ]
  },
  {
   "cell_type": "code",
   "execution_count": 2,
   "metadata": {},
   "outputs": [
    {
     "name": "stdout",
     "output_type": "stream",
     "text": [
      "304279\n"
     ]
    }
   ],
   "source": [
    "cities_urls = load_cities_urls()\n",
    "print(len(cities_urls))"
   ]
  },
  {
   "cell_type": "code",
   "execution_count": 3,
   "metadata": {},
   "outputs": [],
   "source": [
    "cities_data = []"
   ]
  },
  {
   "cell_type": "code",
   "execution_count": 37,
   "metadata": {},
   "outputs": [
    {
     "name": "stderr",
     "output_type": "stream",
     "text": [
      "100%|██████████| 817/817 [01:43<00:00,  7.93it/s]\n"
     ]
    }
   ],
   "source": [
    "cities_data = get_all_cities_data(cities_data, (0, 12000), cities_urls)"
   ]
  },
  {
   "cell_type": "code",
   "execution_count": 38,
   "metadata": {},
   "outputs": [
    {
     "name": "stdout",
     "output_type": "stream",
     "text": [
      "errored 0/9927\n",
      "loaded 9927/304279\n",
      "set()\n"
     ]
    }
   ],
   "source": [
    "def print_stats():\n",
    "    errored = []\n",
    "    loaded = 0\n",
    "    for i, el in enumerate(cities_data):\n",
    "        if not isinstance(el, str):\n",
    "            loaded += 1\n",
    "        elif el != \"not_loaded\" and el != \"<class 'ValueError'>\":\n",
    "            errored.append((i, el, cities_urls[i]))\n",
    "    print(\"errored {}/{}\".format(len(errored), len(errored) + loaded))\n",
    "    #for el in errored:\n",
    "    #    print(el)\n",
    "    print(\"loaded {}/{}\".format(loaded, len(cities_data)))\n",
    "\n",
    "    print(set([el for _, el, _ in errored]))\n",
    "\n",
    "print_stats()"
   ]
  },
  {
   "cell_type": "code",
   "execution_count": 39,
   "metadata": {},
   "outputs": [
    {
     "name": "stderr",
     "output_type": "stream",
     "text": [
      "100%|██████████| 304279/304279 [00:01<00:00, 270509.09it/s]\n"
     ]
    }
   ],
   "source": [
    "save_cities_data(cities_data)"
   ]
  },
  {
   "cell_type": "code",
   "execution_count": null,
   "metadata": {},
   "outputs": [],
   "source": [
    "cities_data_loaded = load_cities_data()"
   ]
  }
 ],
 "metadata": {
  "kernelspec": {
   "display_name": "Python 3.11.0 64-bit",
   "language": "python",
   "name": "python3"
  },
  "language_info": {
   "codemirror_mode": {
    "name": "ipython",
    "version": 3
   },
   "file_extension": ".py",
   "mimetype": "text/x-python",
   "name": "python",
   "nbconvert_exporter": "python",
   "pygments_lexer": "ipython3",
   "version": "3.11.0"
  },
  "orig_nbformat": 4,
  "vscode": {
   "interpreter": {
    "hash": "5fd83d97a51c5efb0d8ca9c605f19b635b1450b548e83298c73280212c3a60ae"
   }
  }
 },
 "nbformat": 4,
 "nbformat_minor": 2
}
