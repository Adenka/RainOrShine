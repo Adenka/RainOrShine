{
 "cells": [
  {
   "cell_type": "code",
   "execution_count": 1,
   "metadata": {},
   "outputs": [
    {
     "name": "stderr",
     "output_type": "stream",
     "text": [
      "c:\\Users\\mr\\AppData\\Local\\Programs\\Python\\Python311\\Lib\\site-packages\\tqdm\\auto.py:22: TqdmWarning: IProgress not found. Please update jupyter and ipywidgets. See https://ipywidgets.readthedocs.io/en/stable/user_install.html\n",
      "  from .autonotebook import tqdm as notebook_tqdm\n"
     ]
    }
   ],
   "source": [
    "from webscrape_fast_util_general import *\n",
    "from webscrape_fast import *"
   ]
  },
  {
   "cell_type": "code",
   "execution_count": 2,
   "metadata": {},
   "outputs": [
    {
     "name": "stdout",
     "output_type": "stream",
     "text": [
      "246\n"
     ]
    }
   ],
   "source": [
    "countries_urls = load_urls(\"countries_urls.json\")\n",
    "print(len(countries_urls))\n",
    "countries_data = []"
   ]
  },
  {
   "cell_type": "code",
   "execution_count": 3,
   "metadata": {},
   "outputs": [
    {
     "name": "stderr",
     "output_type": "stream",
     "text": [
      "100%|██████████| 246/246 [00:38<00:00,  6.35it/s]"
     ]
    },
    {
     "name": "stdout",
     "output_type": "stream",
     "text": [
      "loaded 244/246\n",
      "errored 2/246\n",
      "all errored:\n",
      "(44, \"<class 'AttributeError'>\", 'https://tcktcktck.org/cocos-keeling-islands')\n",
      "(155, \"<class 'AttributeError'>\", 'https://tcktcktck.org/norfolk-island')\n",
      "{\"<class 'AttributeError'>\"}\n"
     ]
    },
    {
     "name": "stderr",
     "output_type": "stream",
     "text": [
      "\n"
     ]
    }
   ],
   "source": [
    "countries_data = get_all_data(get_country_data, countries_urls, countries_data)\n",
    "print_stats(countries_data, countries_urls, True)"
   ]
  },
  {
   "cell_type": "code",
   "execution_count": 4,
   "metadata": {},
   "outputs": [
    {
     "name": "stderr",
     "output_type": "stream",
     "text": [
      "100%|██████████| 246/246 [00:00<00:00, 3377.90it/s]\n"
     ]
    }
   ],
   "source": [
    "save_data(countries_data, \"countries_data.json\")"
   ]
  },
  {
   "cell_type": "code",
   "execution_count": 5,
   "metadata": {},
   "outputs": [
    {
     "name": "stderr",
     "output_type": "stream",
     "text": [
      "100%|██████████| 246/246 [00:00<00:00, 3569.23it/s]\n"
     ]
    }
   ],
   "source": [
    "countries_data_loaded = load_data(\"countries_data.json\")"
   ]
  },
  {
   "cell_type": "code",
   "execution_count": 6,
   "metadata": {},
   "outputs": [
    {
     "name": "stdout",
     "output_type": "stream",
     "text": [
      "({'city': None, 'region': None, 'country': 'Afghanistan', 'coords': [None, None]},                                    Month    Jan    Feb    Mar    Apr    May  \\\n",
      "0                    Record high °C (°F)  15.84  18.45  25.92  31.77  37.65   \n",
      "1                   Average high °C (°F)   5.55   6.56  13.09  19.40  25.16   \n",
      "2                     Daily mean °C (°F)   2.03   3.44  10.14  16.48  22.31   \n",
      "3                    Average low °C (°F)  -2.94  -1.86   4.21   9.98  15.23   \n",
      "4                     Record low °C (°F) -21.23 -18.82 -14.95 -10.71  -5.20   \n",
      "5      Average precipitation mm (inches)  23.15  41.05  38.98  36.70  24.26   \n",
      "6  Average precipitation days (≥ 1.0 mm)   4.47   6.82   6.76   7.23   5.56   \n",
      "7          Average relative humidity (%)  52.29  59.06  51.71  42.76  31.59   \n",
      "8            Mean monthly sunshine hours   7.96   8.09  10.49  12.67  13.77   \n",
      "\n",
      "     Jun    Jul    Aug    Sep    Nov    Oct    Dec   Year  \n",
      "0  42.15  43.46  41.17  36.65  29.77  21.08  15.89  43.46  \n",
      "1  29.68  31.62  29.98  26.22  19.89  12.22   7.52  18.91  \n",
      "2  26.71  28.43  26.68  22.78  16.49   8.94   3.97  15.70  \n",
      "3  18.80  20.39  18.99  14.82   9.48   3.76  -0.82   9.17  \n",
      "4  -0.44   3.69   3.27  -0.45  -5.54 -12.10 -17.94 -21.23  \n",
      "5   7.07  12.86  14.80   5.93   6.91  16.78   8.89  19.78  \n",
      "6   1.90   2.44   2.90   1.46   1.70   3.08   2.00   3.86  \n",
      "7  22.71  23.68  25.59  24.04  29.36  42.27  42.77  37.32  \n",
      "8  14.35  14.15  13.26  12.16   9.60   8.23   8.22  11.08  )\n"
     ]
    }
   ],
   "source": [
    "print(countries_data_loaded[0])"
   ]
  },
  {
   "cell_type": "code",
   "execution_count": null,
   "metadata": {},
   "outputs": [],
   "source": []
  }
 ],
 "metadata": {
  "kernelspec": {
   "display_name": "Python 3.11.0 64-bit",
   "language": "python",
   "name": "python3"
  },
  "language_info": {
   "codemirror_mode": {
    "name": "ipython",
    "version": 3
   },
   "file_extension": ".py",
   "mimetype": "text/x-python",
   "name": "python",
   "nbconvert_exporter": "python",
   "pygments_lexer": "ipython3",
   "version": "3.11.0 (main, Oct 24 2022, 18:26:48) [MSC v.1933 64 bit (AMD64)]"
  },
  "orig_nbformat": 4,
  "vscode": {
   "interpreter": {
    "hash": "5fd83d97a51c5efb0d8ca9c605f19b635b1450b548e83298c73280212c3a60ae"
   }
  }
 },
 "nbformat": 4,
 "nbformat_minor": 2
}
