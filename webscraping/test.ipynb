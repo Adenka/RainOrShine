{
 "cells": [
  {
   "cell_type": "code",
   "execution_count": 37,
   "metadata": {},
   "outputs": [],
   "source": [
    "from webscrape_fast import *\n",
    "import json"
   ]
  },
  {
   "cell_type": "code",
   "execution_count": 38,
   "metadata": {},
   "outputs": [
    {
     "name": "stdout",
     "output_type": "stream",
     "text": [
      "https://tcktcktck.org/afghanistan\n",
      "https://tcktcktck.org/afghanistan/balkh/locations\n",
      "https://tcktcktck.org/afghanistan/balkh/bakhtgan-e-bala\n",
      "{'city': 'Bakhtgan-E Bala', 'region': 'Balkh', 'country': 'Afghanistan', 'coords': (66.65377, 35.799061)}\n",
      "                                   Month    Jan    Feb    Mar    Apr    May  \\\n",
      "0                    Record high °C (°F)  19.17  24.22  35.32  34.31  38.35   \n",
      "1                   Average high °C (°F)   8.87   9.52  17.51  23.60  30.24   \n",
      "2                     Daily mean °C (°F)   6.31   7.05  14.61  20.75  27.54   \n",
      "3                    Average low °C (°F)   2.52   2.77   9.29  14.48  20.69   \n",
      "4                     Record low °C (°F)  -9.08 -18.17  -6.06   2.02  11.10   \n",
      "5      Average precipitation mm (inches)  19.33  27.60  28.73  31.30  20.08   \n",
      "6  Average precipitation days (≥ 1.0 mm)   5.60   7.06   8.53   8.16   5.96   \n",
      "7          Average relative humidity (%)  55.55  60.97  51.23  43.13  29.16   \n",
      "8            Mean monthly sunshine hours   7.65   7.51  10.70  12.74  14.12   \n",
      "\n",
      "     Jun    Jul    Aug    Sep    Nov    Oct    Dec   Year  \n",
      "0  44.40  45.41  44.40  39.36  35.32  29.27  22.20  45.41  \n",
      "1  35.25  37.42  35.02  30.34  22.76  14.17   9.63  22.86  \n",
      "2  32.50  34.37  31.79  26.79  19.32  11.24   6.86  19.93  \n",
      "3  24.81  26.48  24.10  18.87  12.64   6.72   2.87  13.86  \n",
      "4  16.15  19.17  15.14   8.07   2.02 -13.12 -12.11 -18.17  \n",
      "5   4.39   0.26   0.12   0.37   4.31  16.52  10.24  13.60  \n",
      "6   1.37   0.09   0.00   0.09   1.46   4.49   3.03   3.82  \n",
      "7  17.24  14.41  15.36  18.96  31.56  49.22  51.38  36.51  \n",
      "8  14.54  14.50  13.54  12.52   9.01   8.10   8.00  11.08  \n"
     ]
    }
   ],
   "source": [
    "countries_urls = get_countries_urls()\n",
    "print(countries_urls[0])\n",
    "regions_urls = get_regions_urls(countries_urls[0])\n",
    "print(\"https://tcktcktck.org\" + regions_urls[0] + \"/locations\")\n",
    "cities_urls = get_cities_urls(regions_urls[0])\n",
    "print(cities_urls[0])\n",
    "city_data = get_city_data(cities_urls[0])\n",
    "data, df = city_data\n",
    "print(data)\n",
    "print(df)"
   ]
  },
  {
   "cell_type": "code",
   "execution_count": 10,
   "metadata": {},
   "outputs": [],
   "source": [
    "with open('mydata.json', 'w') as f:\n",
    "    json.dump((data, json.loads(df.to_json())), f, indent=4)"
   ]
  },
  {
   "cell_type": "code",
   "execution_count": 11,
   "metadata": {},
   "outputs": [],
   "source": [
    "f = open('mydata.json')\n",
    "obj = json.load(f)"
   ]
  },
  {
   "cell_type": "code",
   "execution_count": 17,
   "metadata": {},
   "outputs": [],
   "source": [
    "df = pd.DataFrame.from_dict(obj[1])"
   ]
  },
  {
   "cell_type": "code",
   "execution_count": 20,
   "metadata": {},
   "outputs": [
    {
     "data": {
      "text/plain": [
       "[66.65377, 35.799061]"
      ]
     },
     "execution_count": 20,
     "metadata": {},
     "output_type": "execute_result"
    }
   ],
   "source": [
    "obj[0][\"coords\"]\n"
   ]
  },
  {
   "cell_type": "code",
   "execution_count": 32,
   "metadata": {},
   "outputs": [
    {
     "name": "stdout",
     "output_type": "stream",
     "text": [
      "0 -> https://tcktcktck.org/afghanistan\n",
      "1 -> https://tcktcktck.org/albania\n",
      "2 -> https://tcktcktck.org/algeria\n",
      "3 -> https://tcktcktck.org/american-samoa\n",
      "4 -> https://tcktcktck.org/andorra\n",
      "5 -> https://tcktcktck.org/angola\n",
      "6 -> https://tcktcktck.org/anguilla\n",
      "7 -> https://tcktcktck.org/antigua-and-barbuda\n",
      "8 -> https://tcktcktck.org/argentina\n",
      "9 -> https://tcktcktck.org/armenia\n"
     ]
    }
   ],
   "source": [
    "countries_urls = get_countries_urls()\n",
    "regions_urls = []\n",
    "for idx, url in enumerate(countries_urls[:10]):\n",
    "    print(idx, \"->\", url)\n",
    "    regions_urls += get_regions_urls(url)"
   ]
  },
  {
   "cell_type": "code",
   "execution_count": 36,
   "metadata": {},
   "outputs": [
    {
     "name": "stdout",
     "output_type": "stream",
     "text": [
      "246\n",
      "168\n"
     ]
    }
   ],
   "source": [
    "print(len(countries_urls))\n",
    "print(len(regions_urls))"
   ]
  },
  {
   "cell_type": "code",
   "execution_count": 25,
   "metadata": {},
   "outputs": [
    {
     "data": {
      "text/plain": [
       "[3, 4, 5, 5, 9, 9]"
      ]
     },
     "execution_count": 25,
     "metadata": {},
     "output_type": "execute_result"
    }
   ],
   "source": [
    "arr = [3, 4, 5]\n",
    "brr = [5, 9, 9]\n",
    "arr += brr\n",
    "arr"
   ]
  },
  {
   "cell_type": "code",
   "execution_count": 35,
   "metadata": {},
   "outputs": [
    {
     "data": {
      "text/plain": [
       "<Response [200]>"
      ]
     },
     "execution_count": 35,
     "metadata": {},
     "output_type": "execute_result"
    }
   ],
   "source": [
    "requests.get(\"https://tcktcktck.org/afghanistan\")"
   ]
  },
  {
   "cell_type": "code",
   "execution_count": 40,
   "metadata": {},
   "outputs": [],
   "source": [
    "from concurrent.futures import ThreadPoolExecutor"
   ]
  },
  {
   "cell_type": "code",
   "execution_count": 45,
   "metadata": {},
   "outputs": [
    {
     "name": "stdout",
     "output_type": "stream",
     "text": [
      "0 -> <Response [200]>\n",
      "1 -> <Response [200]>\n",
      "2 -> <Response [200]>\n",
      "3 -> <Response [200]>\n",
      "4 -> <Response [200]>\n",
      "5 -> <Response [200]>\n",
      "6 -> <Response [200]>\n",
      "7 -> <Response [200]>\n",
      "8 -> <Response [200]>\n",
      "9 -> <Response [200]>\n",
      "10 -> <Response [200]>\n",
      "11 -> <Response [200]>\n",
      "12 -> <Response [200]>\n",
      "13 -> <Response [200]>\n",
      "14 -> <Response [200]>\n",
      "15 -> <Response [200]>\n",
      "16 -> <Response [200]>\n",
      "17 -> <Response [200]>\n",
      "18 -> <Response [200]>\n",
      "19 -> <Response [200]>\n",
      "20 -> <Response [200]>\n",
      "21 -> <Response [200]>\n",
      "22 -> <Response [200]>\n",
      "23 -> <Response [200]>\n",
      "24 -> <Response [200]>\n",
      "25 -> <Response [200]>\n",
      "26 -> <Response [200]>\n",
      "27 -> <Response [200]>\n",
      "28 -> <Response [200]>\n",
      "29 -> <Response [200]>\n",
      "30 -> <Response [200]>\n",
      "31 -> <Response [200]>\n",
      "32 -> <Response [200]>\n",
      "33 -> <Response [200]>\n",
      "34 -> <Response [200]>\n",
      "35 -> <Response [200]>\n",
      "36 -> <Response [200]>\n",
      "37 -> <Response [200]>\n",
      "38 -> <Response [200]>\n",
      "39 -> <Response [200]>\n",
      "40 -> <Response [200]>\n",
      "41 -> <Response [200]>\n",
      "42 -> <Response [200]>\n",
      "43 -> <Response [200]>\n",
      "44 -> <Response [200]>\n",
      "45 -> <Response [200]>\n",
      "46 -> <Response [200]>\n",
      "47 -> <Response [200]>\n",
      "48 -> <Response [200]>\n",
      "49 -> <Response [200]>\n",
      "50 -> <Response [200]>\n",
      "51 -> <Response [200]>\n",
      "52 -> <Response [200]>\n",
      "53 -> <Response [200]>\n",
      "54 -> <Response [200]>\n",
      "55 -> <Response [200]>\n",
      "56 -> <Response [200]>\n",
      "57 -> <Response [200]>\n",
      "58 -> <Response [200]>\n",
      "59 -> <Response [200]>\n",
      "60 -> <Response [200]>\n",
      "61 -> <Response [200]>\n",
      "62 -> <Response [200]>\n",
      "63 -> <Response [200]>\n",
      "64 -> <Response [200]>\n",
      "65 -> <Response [200]>\n",
      "66 -> <Response [200]>\n",
      "67 -> <Response [200]>\n",
      "68 -> <Response [200]>\n",
      "69 -> <Response [200]>\n",
      "70 -> <Response [200]>\n",
      "71 -> <Response [200]>\n",
      "72 -> <Response [200]>\n",
      "73 -> <Response [200]>\n",
      "74 -> <Response [200]>\n",
      "75 -> <Response [200]>\n",
      "76 -> <Response [200]>\n",
      "77 -> <Response [200]>\n",
      "78 -> <Response [200]>\n",
      "79 -> <Response [200]>\n",
      "80 -> <Response [200]>\n",
      "81 -> <Response [200]>\n",
      "82 -> <Response [200]>\n",
      "83 -> <Response [200]>\n",
      "84 -> <Response [200]>\n",
      "85 -> <Response [200]>\n",
      "86 -> <Response [200]>\n",
      "87 -> <Response [200]>\n",
      "88 -> <Response [200]>\n",
      "89 -> <Response [200]>\n",
      "90 -> <Response [200]>\n",
      "91 -> <Response [200]>\n",
      "92 -> <Response [200]>\n",
      "93 -> <Response [200]>\n",
      "94 -> <Response [200]>\n",
      "95 -> <Response [200]>\n",
      "96 -> <Response [200]>\n",
      "97 -> <Response [200]>\n",
      "98 -> <Response [200]>\n",
      "99 -> <Response [200]>\n"
     ]
    }
   ],
   "source": [
    "executor = ThreadPoolExecutor()\n",
    "futures = [executor.submit(requests.get, url) for url in countries_urls[:100]]\n",
    "for i, f in enumerate(futures):\n",
    "    print(i, \"->\", f.result())\n"
   ]
  },
  {
   "cell_type": "code",
   "execution_count": 46,
   "metadata": {},
   "outputs": [
    {
     "name": "stdout",
     "output_type": "stream",
     "text": [
      "0 -> 34\n",
      "1 -> 12\n",
      "2 -> 48\n",
      "3 -> 5\n",
      "4 -> 7\n",
      "5 -> 18\n",
      "6 -> 1\n",
      "7 -> 8\n",
      "8 -> 24\n",
      "9 -> 11\n",
      "10 -> 1\n",
      "11 -> 8\n",
      "12 -> 9\n",
      "13 -> 74\n",
      "14 -> 4\n",
      "15 -> 7\n",
      "16 -> 11\n",
      "17 -> 7\n",
      "18 -> 11\n",
      "19 -> 6\n",
      "20 -> 12\n",
      "21 -> 11\n",
      "22 -> 20\n",
      "23 -> 9\n",
      "24 -> 1\n",
      "25 -> 3\n",
      "26 -> 16\n",
      "27 -> 27\n",
      "28 -> 1\n",
      "29 -> 1\n",
      "30 -> 4\n",
      "31 -> 28\n",
      "32 -> 13\n",
      "33 -> 18\n",
      "34 -> 25\n",
      "35 -> 10\n",
      "36 -> 13\n",
      "37 -> 22\n",
      "38 -> 6\n",
      "39 -> 17\n",
      "40 -> 23\n",
      "41 -> 16\n",
      "42 -> 31\n",
      "43 -> 1\n",
      "44 -> 1\n",
      "45 -> 33\n",
      "46 -> 3\n",
      "47 -> 1\n",
      "48 -> 7\n",
      "49 -> 14\n",
      "50 -> 21\n",
      "51 -> 16\n",
      "52 -> 1\n",
      "53 -> 6\n",
      "54 -> 14\n",
      "55 -> 26\n",
      "56 -> 5\n",
      "57 -> 6\n",
      "58 -> 10\n",
      "59 -> 32\n",
      "60 -> 24\n",
      "61 -> 27\n",
      "62 -> 14\n",
      "63 -> 7\n",
      "64 -> 6\n",
      "65 -> 15\n",
      "66 -> 4\n",
      "67 -> 11\n",
      "68 -> 1\n",
      "69 -> 6\n",
      "70 -> 4\n",
      "71 -> 5\n",
      "72 -> 19\n",
      "73 -> 97\n",
      "74 -> 2\n",
      "75 -> 1\n",
      "76 -> 9\n",
      "77 -> 9\n",
      "78 -> 13\n",
      "79 -> 16\n",
      "80 -> 10\n",
      "81 -> 1\n",
      "82 -> 14\n",
      "83 -> 6\n",
      "84 -> 7\n",
      "85 -> 2\n",
      "86 -> 19\n",
      "87 -> 22\n",
      "88 -> 16\n",
      "89 -> 34\n",
      "90 -> 9\n",
      "91 -> 10\n",
      "92 -> 10\n",
      "93 -> 18\n",
      "94 -> 18\n",
      "95 -> 42\n",
      "96 -> 8\n",
      "97 -> 37\n",
      "98 -> 34\n",
      "99 -> 31\n"
     ]
    }
   ],
   "source": [
    "executor = ThreadPoolExecutor()\n",
    "futures = [executor.submit(get_regions_urls, url) for url in countries_urls[:100]]\n",
    "for i, f in enumerate(futures):\n",
    "    print(i, \"->\", len(f.result()))\n"
   ]
  }
 ],
 "metadata": {
  "kernelspec": {
   "display_name": "Python 3.11.0 64-bit",
   "language": "python",
   "name": "python3"
  },
  "language_info": {
   "codemirror_mode": {
    "name": "ipython",
    "version": 3
   },
   "file_extension": ".py",
   "mimetype": "text/x-python",
   "name": "python",
   "nbconvert_exporter": "python",
   "pygments_lexer": "ipython3",
   "version": "3.11.0"
  },
  "orig_nbformat": 4,
  "vscode": {
   "interpreter": {
    "hash": "5fd83d97a51c5efb0d8ca9c605f19b635b1450b548e83298c73280212c3a60ae"
   }
  }
 },
 "nbformat": 4,
 "nbformat_minor": 2
}
