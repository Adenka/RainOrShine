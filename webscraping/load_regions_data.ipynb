{
 "cells": [
  {
   "cell_type": "code",
   "execution_count": 1,
   "metadata": {},
   "outputs": [
    {
     "name": "stderr",
     "output_type": "stream",
     "text": [
      "c:\\Users\\mr\\AppData\\Local\\Programs\\Python\\Python311\\Lib\\site-packages\\tqdm\\auto.py:22: TqdmWarning: IProgress not found. Please update jupyter and ipywidgets. See https://ipywidgets.readthedocs.io/en/stable/user_install.html\n",
      "  from .autonotebook import tqdm as notebook_tqdm\n"
     ]
    }
   ],
   "source": [
    "from webscrape_fast_util_general import *\n",
    "from webscrape_fast import *"
   ]
  },
  {
   "cell_type": "code",
   "execution_count": 2,
   "metadata": {},
   "outputs": [
    {
     "name": "stdout",
     "output_type": "stream",
     "text": [
      "4499\n"
     ]
    }
   ],
   "source": [
    "regions_urls = load_urls(\"regions_urls.json\")\n",
    "for i in range(len(regions_urls)):\n",
    "    regions_urls[i] = \"https://tcktcktck.org\" + regions_urls[i]\n",
    "print(len(regions_urls))\n",
    "regions_data = []"
   ]
  },
  {
   "cell_type": "code",
   "execution_count": 7,
   "metadata": {},
   "outputs": [
    {
     "name": "stderr",
     "output_type": "stream",
     "text": [
      "100%|██████████| 373/373 [01:12<00:00,  5.18it/s]"
     ]
    },
    {
     "name": "stdout",
     "output_type": "stream",
     "text": [
      "loaded 4488/4499\n",
      "errored 11/4499\n",
      "all errored:\n",
      "(634, \"<class 'AttributeError'>\", 'https://tcktcktck.org/cocos-keeling-islands/cocos-keeling-islands')\n",
      "(989, \"<class 'AttributeError'>\", 'https://tcktcktck.org/france/clipperton-island')\n",
      "(1073, \"<class 'AttributeError'>\", 'https://tcktcktck.org/french-southern-territories/amsterdam-island')\n",
      "(1077, \"<class 'AttributeError'>\", 'https://tcktcktck.org/french-southern-territories/glorioso-islands')\n",
      "(1079, \"<class 'AttributeError'>\", 'https://tcktcktck.org/french-southern-territories/kerguelen-islands')\n",
      "(1080, \"<class 'AttributeError'>\", 'https://tcktcktck.org/french-southern-territories/saint-paul-island')\n",
      "(2365, \"<class 'AttributeError'>\", 'https://tcktcktck.org/new-zealand/chatham-islands')\n",
      "(2442, \"<class 'AttributeError'>\", 'https://tcktcktck.org/norfolk-island/norfolk-island')\n",
      "(3140, \"<class 'AttributeError'>\", 'https://tcktcktck.org/seychelles/outer-islands')\n",
      "(4312, \"<class 'AttributeError'>\", 'https://tcktcktck.org/united-states-minor-outlying-islands/baker-island')\n",
      "(4313, \"<class 'AttributeError'>\", 'https://tcktcktck.org/united-states-minor-outlying-islands/howland-island')\n",
      "{\"<class 'AttributeError'>\"}\n"
     ]
    },
    {
     "name": "stderr",
     "output_type": "stream",
     "text": [
      "\n"
     ]
    }
   ],
   "source": [
    "regions_data = get_all_data(get_region_data, regions_urls, regions_data)\n",
    "print_stats(regions_data, regions_urls, True)"
   ]
  },
  {
   "cell_type": "code",
   "execution_count": 8,
   "metadata": {},
   "outputs": [
    {
     "name": "stderr",
     "output_type": "stream",
     "text": [
      "100%|██████████| 4499/4499 [00:00<00:00, 14148.44it/s]\n"
     ]
    }
   ],
   "source": [
    "save_data(regions_data, \"regions_data.json\")"
   ]
  },
  {
   "cell_type": "code",
   "execution_count": 9,
   "metadata": {},
   "outputs": [
    {
     "name": "stderr",
     "output_type": "stream",
     "text": [
      "100%|██████████| 4499/4499 [00:01<00:00, 3619.55it/s]\n"
     ]
    }
   ],
   "source": [
    "regions_data_loaded = load_data(\"regions_data.json\")"
   ]
  },
  {
   "cell_type": "code",
   "execution_count": 11,
   "metadata": {},
   "outputs": [
    {
     "name": "stdout",
     "output_type": "stream",
     "text": [
      "4499\n",
      "({'city': None, 'region': 'Mashonaland East', 'country': 'Zimbabwe', 'coords': [31.2626366, -18.5871642]},                                    Month     Jan     Feb     Mar    Apr  \\\n",
      "0                    Record high °C (°F)   36.00   34.00   33.00  31.00   \n",
      "1                   Average high °C (°F)   26.59   26.25   25.91  24.45   \n",
      "2                     Daily mean °C (°F)   23.02   22.51   21.82  19.92   \n",
      "3                    Average low °C (°F)   16.25   15.59   14.43  12.32   \n",
      "4                     Record low °C (°F)   12.00   12.00    9.00   8.00   \n",
      "5      Average precipitation mm (inches)  368.35  318.08  173.30  83.49   \n",
      "6  Average precipitation days (≥ 1.0 mm)   23.00   21.09   18.18  11.09   \n",
      "7          Average relative humidity (%)   78.45   80.85   79.02  74.96   \n",
      "8            Mean monthly sunshine hours   12.48   12.24   11.79   8.40   \n",
      "\n",
      "     May    Jun    Jul    Aug    Sep    Nov     Oct     Dec    Year  \n",
      "0  29.00  28.00  31.00  34.00  38.00  41.00   40.00   36.00   41.00  \n",
      "1  23.53  22.07  22.20  25.98  29.38  30.66   29.25   27.36   26.14  \n",
      "2  18.47  16.73  16.73  20.16  23.64  25.61   25.07   23.82   21.46  \n",
      "3   9.94   8.13   7.79   9.82  12.08  15.01   16.52   16.88   12.90  \n",
      "4   6.00   4.00   3.00   4.00   3.00   7.00    9.00   12.00    3.00  \n",
      "5  16.68   2.56   3.43   1.93   3.93  50.64  223.37  379.46  135.43  \n",
      "6   3.09   0.36   0.73   0.55   0.91   6.91   16.09   22.55   10.38  \n",
      "7  65.48  63.26  58.92  48.38  42.25  46.17   58.00   72.52   64.02  \n",
      "8   8.64   8.67   8.59   8.70  11.23  11.77   12.77   12.54   10.65  )\n"
     ]
    }
   ],
   "source": [
    "print(len(regions_data_loaded))\n",
    "print(regions_data_loaded[-1])"
   ]
  },
  {
   "cell_type": "code",
   "execution_count": null,
   "metadata": {},
   "outputs": [],
   "source": []
  }
 ],
 "metadata": {
  "kernelspec": {
   "display_name": "Python 3.11.0 64-bit",
   "language": "python",
   "name": "python3"
  },
  "language_info": {
   "codemirror_mode": {
    "name": "ipython",
    "version": 3
   },
   "file_extension": ".py",
   "mimetype": "text/x-python",
   "name": "python",
   "nbconvert_exporter": "python",
   "pygments_lexer": "ipython3",
   "version": "3.11.0"
  },
  "orig_nbformat": 4,
  "vscode": {
   "interpreter": {
    "hash": "5fd83d97a51c5efb0d8ca9c605f19b635b1450b548e83298c73280212c3a60ae"
   }
  }
 },
 "nbformat": 4,
 "nbformat_minor": 2
}
