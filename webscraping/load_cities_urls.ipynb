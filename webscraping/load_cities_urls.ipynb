{
 "cells": [
  {
   "cell_type": "code",
   "execution_count": 36,
   "metadata": {},
   "outputs": [],
   "source": [
    "from webscrape_fast import *\n",
    "import json\n",
    "from concurrent.futures import ThreadPoolExecutor\n",
    "from tqdm.auto import tqdm"
   ]
  },
  {
   "cell_type": "code",
   "execution_count": 2,
   "metadata": {},
   "outputs": [],
   "source": [
    "countries_urls = get_countries_urls()"
   ]
  },
  {
   "cell_type": "code",
   "execution_count": 75,
   "metadata": {},
   "outputs": [],
   "source": [
    "with open('data/countries_urls.json', 'w') as f:\n",
    "    json.dump(countries_urls, f, indent=4)"
   ]
  },
  {
   "cell_type": "code",
   "execution_count": 3,
   "metadata": {},
   "outputs": [
    {
     "name": "stderr",
     "output_type": "stream",
     "text": [
      "100%|██████████| 246/246 [00:34<00:00,  7.16it/s]\n"
     ]
    }
   ],
   "source": [
    "executor = ThreadPoolExecutor()\n",
    "futures = [executor.submit(get_regions_urls, url) for url in countries_urls]\n",
    "regions_urls = []\n",
    "for f in tqdm(futures):\n",
    "    regions_urls += f.result()"
   ]
  },
  {
   "cell_type": "code",
   "execution_count": 73,
   "metadata": {},
   "outputs": [],
   "source": [
    "with open('data/regions_urls.json', 'w') as f:\n",
    "    json.dump(regions_urls, f, indent=4)"
   ]
  },
  {
   "cell_type": "code",
   "execution_count": 26,
   "metadata": {},
   "outputs": [],
   "source": [
    "def get_all_cities_urls(regions_cities_urls=[]):\n",
    "    executor = ThreadPoolExecutor()\n",
    "    if not regions_cities_urls:\n",
    "        futures = [executor.submit(get_cities_urls, url) for url in regions_urls]\n",
    "        for f in tqdm(futures):\n",
    "            try:\n",
    "                regions_cities_urls.append(f.result())\n",
    "            except:\n",
    "                regions_cities_urls.append([])\n",
    "                print(\"failed to get cites urls from region nr\", i)\n",
    "    else:\n",
    "        futures = [(i, executor.submit(get_cities_urls, url)) for i, url in filter(lambda x: not x[1], enumerate(regions_urls))]\n",
    "        for f in tqdm(futures):\n",
    "            try:\n",
    "                regions_cities_urls[f[0]] = f[1].result()\n",
    "            except:\n",
    "                print(\"failed to get cites urls from region nr\", f[0])\n",
    "    return regions_cities_urls"
   ]
  },
  {
   "cell_type": "code",
   "execution_count": 62,
   "metadata": {},
   "outputs": [],
   "source": [
    "def get_all_cities_urls(regions_cities_urls=[]): # better solution\n",
    "    if not regions_cities_urls:\n",
    "        for _ in regions_urls:\n",
    "            regions_cities_urls.append([])\n",
    "\n",
    "    executor = ThreadPoolExecutor()\n",
    "    futures = [(i, executor.submit(get_cities_urls, regions_urls[i])) for i, _ in filter(lambda x: x[1] is None, enumerate(regions_cities_urls))]\n",
    "    for i, f in tqdm(futures):\n",
    "        try:\n",
    "            regions_cities_urls[i] = f.result()\n",
    "        except requests.exceptions.RequestException as e:\n",
    "            regions_cities_urls[i] = None\n",
    "            print(\"Failed! : request exception, url nr\", i)\n",
    "        except:\n",
    "            regions_cities_urls[i] = None\n",
    "            print(\"Failed! : something else, url nr\", i)\n",
    "    return regions_cities_urls"
   ]
  },
  {
   "cell_type": "code",
   "execution_count": 27,
   "metadata": {},
   "outputs": [],
   "source": [
    "regions_cities_urls = []"
   ]
  },
  {
   "cell_type": "code",
   "execution_count": 63,
   "metadata": {},
   "outputs": [
    {
     "name": "stderr",
     "output_type": "stream",
     "text": [
      "0it [00:00, ?it/s]\n"
     ]
    }
   ],
   "source": [
    "regions_cities_urls = get_all_cities_urls(regions_cities_urls)"
   ]
  },
  {
   "cell_type": "code",
   "execution_count": 60,
   "metadata": {},
   "outputs": [],
   "source": [
    "with open('data/regions_cities_urls.json', 'w') as f:\n",
    "    json.dump(regions_cities_urls, f, indent=4)"
   ]
  },
  {
   "cell_type": "code",
   "execution_count": 61,
   "metadata": {},
   "outputs": [
    {
     "name": "stdout",
     "output_type": "stream",
     "text": [
      "sum = 304279\n"
     ]
    }
   ],
   "source": [
    "sum = 0\n",
    "for cities in regions_cities_urls:\n",
    "    sum += len(cities)\n",
    "print(\"sum =\", sum)"
   ]
  },
  {
   "cell_type": "code",
   "execution_count": 78,
   "metadata": {},
   "outputs": [],
   "source": [
    "not_loaded = []\n",
    "for i, _ in filter(lambda x: not x[1], enumerate(regions_cities_urls)):\n",
    "    not_loaded.append(\"https://tcktcktck.org\" + regions_urls[i] + \"/locations\")"
   ]
  },
  {
   "cell_type": "code",
   "execution_count": 79,
   "metadata": {},
   "outputs": [
    {
     "name": "stdout",
     "output_type": "stream",
     "text": [
      "93\n",
      "['https://tcktcktck.org/andorra/escaldes-engordany/locations', 'https://tcktcktck.org/antigua-and-barbuda/redonda/locations', 'https://tcktcktck.org/azerbaijan/shirvan/locations', 'https://tcktcktck.org/bermuda/saint-george/locations', 'https://tcktcktck.org/bermuda/southampton/locations', 'https://tcktcktck.org/botswana/francistown/locations', 'https://tcktcktck.org/botswana/jwaneng/locations', 'https://tcktcktck.org/botswana/lobatse/locations', 'https://tcktcktck.org/france/clipperton-island/locations', 'https://tcktcktck.org/french-southern-territories/bassas-da-india/locations', 'https://tcktcktck.org/french-southern-territories/europa-island/locations', 'https://tcktcktck.org/french-southern-territories/juan-de-nova-island/locations', 'https://tcktcktck.org/french-southern-territories/saint-paul-island/locations', 'https://tcktcktck.org/french-southern-territories/tromelin-island/locations', 'https://tcktcktck.org/guam/umatac/locations', 'https://tcktcktck.org/guernsey/herm/locations', 'https://tcktcktck.org/guernsey/jethou/locations', 'https://tcktcktck.org/guernsey/lihou/locations', 'https://tcktcktck.org/jersey/grouville/locations', 'https://tcktcktck.org/jersey/saint-clement/locations', 'https://tcktcktck.org/jersey/trinity/locations', 'https://tcktcktck.org/latvia/jekabpils/locations', 'https://tcktcktck.org/latvia/rezekne/locations', 'https://tcktcktck.org/latvia/valmiera/locations', 'https://tcktcktck.org/liechtenstein/planken/locations', 'https://tcktcktck.org/liechtenstein/schaan/locations', 'https://tcktcktck.org/liechtenstein/schellenberg/locations', 'https://tcktcktck.org/liechtenstein/triesen/locations', 'https://tcktcktck.org/maldives/male/locations', 'https://tcktcktck.org/malta/balzan/locations', 'https://tcktcktck.org/malta/birgu/locations', 'https://tcktcktck.org/malta/fontana/locations', 'https://tcktcktck.org/malta/lija/locations', 'https://tcktcktck.org/malta/mdina/locations', 'https://tcktcktck.org/malta/mtarfa/locations', 'https://tcktcktck.org/malta/qala/locations', 'https://tcktcktck.org/malta/sannat/locations', 'https://tcktcktck.org/malta/sliema/locations', 'https://tcktcktck.org/malta/valletta/locations', 'https://tcktcktck.org/mauritania/nouakchott-ouest/locations', 'https://tcktcktck.org/mauritania/nouakchott-sud/locations', 'https://tcktcktck.org/mayotte/pamandzi/locations', 'https://tcktcktck.org/moldova/bender/locations', 'https://tcktcktck.org/monaco/fontvieille/locations', 'https://tcktcktck.org/monaco/monaco-ville/locations', 'https://tcktcktck.org/nauru/anabar/locations', 'https://tcktcktck.org/nauru/anetan/locations', 'https://tcktcktck.org/nauru/anibare/locations', 'https://tcktcktck.org/nauru/boe/locations', 'https://tcktcktck.org/nauru/buada/locations', 'https://tcktcktck.org/nauru/denigomodu/locations', 'https://tcktcktck.org/nauru/ijuw/locations', 'https://tcktcktck.org/nauru/meneng/locations', 'https://tcktcktck.org/nauru/uaboe/locations', 'https://tcktcktck.org/nauru/yaren/locations', 'https://tcktcktck.org/saint-pierre-and-miquelon/saint-pierre/locations', 'https://tcktcktck.org/samoa/aiga-i-le-tai/locations', 'https://tcktcktck.org/san-marino/acquaviva/locations', 'https://tcktcktck.org/san-marino/borgo-maggiore/locations', 'https://tcktcktck.org/san-marino/chiesanuova/locations', 'https://tcktcktck.org/san-marino/domagnano/locations', 'https://tcktcktck.org/san-marino/faetano/locations', 'https://tcktcktck.org/san-marino/fiorentino/locations', 'https://tcktcktck.org/san-marino/montegiardino/locations', 'https://tcktcktck.org/san-marino/serravalle/locations', 'https://tcktcktck.org/seychelles/anse-aux-pins/locations', 'https://tcktcktck.org/seychelles/anse-royale/locations', 'https://tcktcktck.org/seychelles/au-cap/locations', 'https://tcktcktck.org/seychelles/baie-lazare/locations', 'https://tcktcktck.org/seychelles/beau-vallon/locations', 'https://tcktcktck.org/seychelles/cascade/locations', 'https://tcktcktck.org/seychelles/english-river/locations', 'https://tcktcktck.org/seychelles/mont-buxton/locations', 'https://tcktcktck.org/seychelles/mont-fleuri/locations', 'https://tcktcktck.org/seychelles/plaisance/locations', 'https://tcktcktck.org/seychelles/port-glaud/locations', 'https://tcktcktck.org/seychelles/roche-caiman/locations', 'https://tcktcktck.org/seychelles/takamaka/locations', 'https://tcktcktck.org/slovenia/kobilje/locations', 'https://tcktcktck.org/slovenia/odranci/locations', 'https://tcktcktck.org/solomon-islands/honiara/locations', 'https://tcktcktck.org/spain/melilla/locations', 'https://tcktcktck.org/tajikistan/dushanbe/locations', 'https://tcktcktck.org/the-bahamas/black-point/locations', 'https://tcktcktck.org/the-bahamas/grand-cay/locations', 'https://tcktcktck.org/the-bahamas/spanish-wells/locations', 'https://tcktcktck.org/tokelau/atafu/locations', 'https://tcktcktck.org/tokelau/fakaofo/locations', 'https://tcktcktck.org/tokelau/nukunonu/locations', 'https://tcktcktck.org/tuvalu/funafuti/locations', 'https://tcktcktck.org/tuvalu/nukufetau/locations', 'https://tcktcktck.org/tuvalu/nukulaelae/locations', 'https://tcktcktck.org/united-states-minor-outlying-islands/kingman-reef/locations']\n"
     ]
    }
   ],
   "source": [
    "print(len(not_loaded))\n",
    "print(not_loaded)"
   ]
  },
  {
   "cell_type": "code",
   "execution_count": 76,
   "metadata": {},
   "outputs": [],
   "source": [
    "cities_urls = []\n",
    "for cities in regions_cities_urls:\n",
    "    cities_urls += cities"
   ]
  },
  {
   "cell_type": "code",
   "execution_count": 77,
   "metadata": {},
   "outputs": [],
   "source": [
    "with open('data/cities_urls.json', 'w') as f:\n",
    "    json.dump(cities_urls, f, indent=4)"
   ]
  },
  {
   "cell_type": "code",
   "execution_count": null,
   "metadata": {},
   "outputs": [],
   "source": []
  }
 ],
 "metadata": {
  "kernelspec": {
   "display_name": "Python 3.11.0 64-bit",
   "language": "python",
   "name": "python3"
  },
  "language_info": {
   "codemirror_mode": {
    "name": "ipython",
    "version": 3
   },
   "file_extension": ".py",
   "mimetype": "text/x-python",
   "name": "python",
   "nbconvert_exporter": "python",
   "pygments_lexer": "ipython3",
   "version": "3.11.0"
  },
  "orig_nbformat": 4,
  "vscode": {
   "interpreter": {
    "hash": "5fd83d97a51c5efb0d8ca9c605f19b635b1450b548e83298c73280212c3a60ae"
   }
  }
 },
 "nbformat": 4,
 "nbformat_minor": 2
}
